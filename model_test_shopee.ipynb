{
  "nbformat": 4,
  "nbformat_minor": 0,
  "metadata": {
    "colab": {
      "name": " model_test_shopee.ipynb",
      "provenance": [],
      "private_outputs": true,
      "collapsed_sections": [],
      "machine_shape": "hm",
      "mount_file_id": "1IGBnlyY_3zlTimnLlC5DPZmUzbcFvWWt",
      "authorship_tag": "ABX9TyPNMiAszVx9TMbK6n9nIU+v",
      "include_colab_link": true
    },
    "kernelspec": {
      "name": "python3",
      "display_name": "Python 3"
    },
    "accelerator": "GPU"
  },
  "cells": [
    {
      "cell_type": "markdown",
      "metadata": {
        "id": "view-in-github",
        "colab_type": "text"
      },
      "source": [
        "<a href=\"https://colab.research.google.com/github/jackliuuu/image_detection/blob/master/model_test_shopee.ipynb\" target=\"_parent\"><img src=\"https://colab.research.google.com/assets/colab-badge.svg\" alt=\"Open In Colab\"/></a>"
      ]
    },
    {
      "cell_type": "code",
      "metadata": {
        "id": "iPNxrWHQ0M2L",
        "colab_type": "code",
        "colab": {}
      },
      "source": [
        "!pip install \"tensorflow_hub>=0.6.0\""
      ],
      "execution_count": null,
      "outputs": []
    },
    {
      "cell_type": "code",
      "metadata": {
        "id": "8hqzjVrL0NjC",
        "colab_type": "code",
        "colab": {}
      },
      "source": [
        "import tensorflow_hub as hub\n",
        "import tensorflow as tf\n",
        "from tensorflow import keras\n",
        "from tensorflow.keras.models import Sequential\n",
        "from tensorflow.keras.layers import Dense, Conv2D, Flatten, Dropout, MaxPooling2D\n",
        "from tensorflow.keras.preprocessing.image import ImageDataGenerator\n",
        "\n",
        "import os\n",
        "import numpy as np\n",
        "import matplotlib.pyplot as plt\n",
        "import numpy as np\n",
        "\n",
        "import pandas as pd\n",
        "\n",
        "import matplotlib.pyplot as plt\n",
        "\n",
        "from sklearn.model_selection import train_test_split\n",
        "\n",
        "from keras.utils import to_categorical\n",
        "\n",
        "from tqdm import tqdm\n",
        "import os\n",
        "import glob\n",
        "import cv2"
      ],
      "execution_count": null,
      "outputs": []
    },
    {
      "cell_type": "code",
      "metadata": {
        "id": "xcCXPqN-21lg",
        "colab_type": "code",
        "colab": {}
      },
      "source": [
        "train_dir='/content/drive/My Drive/shopee-product-detection-dataset/train/train'\n",
        "test_dir='/content/drive/My Drive/shopee-product-detection-dataset/test'"
      ],
      "execution_count": null,
      "outputs": []
    },
    {
      "cell_type": "code",
      "metadata": {
        "id": "HN3ullKL3XyO",
        "colab_type": "code",
        "colab": {}
      },
      "source": [
        "batch_size = 2048\n",
        "epochs = 10\n",
        "IMG_HEIGHT = 128\n",
        "IMG_WIDTH = 128"
      ],
      "execution_count": null,
      "outputs": []
    },
    {
      "cell_type": "code",
      "metadata": {
        "id": "f9yzx8PE3dtV",
        "colab_type": "code",
        "colab": {}
      },
      "source": [
        "train_datagen = ImageDataGenerator(\n",
        "        rescale=1 / 255.0,\n",
        "        rotation_range=20,\n",
        "        zoom_range=0.05,\n",
        "        width_shift_range=0.05,\n",
        "        height_shift_range=0.05,\n",
        "        shear_range=0.05,\n",
        "        horizontal_flip=True,\n",
        "        fill_mode=\"nearest\",\n",
        "        validation_split=0.20)"
      ],
      "execution_count": null,
      "outputs": []
    },
    {
      "cell_type": "code",
      "metadata": {
        "id": "6qJ1980o3eTv",
        "colab_type": "code",
        "colab": {}
      },
      "source": [
        "test_datagen = ImageDataGenerator(rescale=1 / 255.0)"
      ],
      "execution_count": null,
      "outputs": []
    },
    {
      "cell_type": "code",
      "metadata": {
        "id": "7cj96uXE3lZs",
        "colab_type": "code",
        "colab": {}
      },
      "source": [
        "batch_size = 128\n",
        "train_generator = train_datagen.flow_from_directory(\n",
        "    directory=train_dir,\n",
        "    target_size=(128, 128),\n",
        "    color_mode=\"rgb\",\n",
        "    batch_size=batch_size,\n",
        "    class_mode=\"categorical\",\n",
        "    subset='training',\n",
        "    shuffle=True,\n",
        ")\n",
        "valid_generator = train_datagen.flow_from_directory(\n",
        "    directory=train_dir,\n",
        "    target_size=(128, 128),\n",
        "    color_mode=\"rgb\",\n",
        "    batch_size=batch_size,\n",
        "    class_mode=\"categorical\",\n",
        "    subset='validation',\n",
        "    shuffle=True\n",
        ")\n",
        "test_generator = test_datagen.flow_from_directory(\n",
        "    directory=test_dir,\n",
        "    target_size=(128, 128),\n",
        "    color_mode=\"rgb\",\n",
        "    batch_size=128,\n",
        "    class_mode='categorical',\n",
        "    shuffle=False)"
      ],
      "execution_count": null,
      "outputs": []
    },
    {
      "cell_type": "code",
      "metadata": {
        "id": "9srxFb3J3rEe",
        "colab_type": "code",
        "colab": {}
      },
      "source": [
        "sample_training_images, _ = next(train_generator)"
      ],
      "execution_count": null,
      "outputs": []
    },
    {
      "cell_type": "code",
      "metadata": {
        "id": "xa3sbkJ03n4c",
        "colab_type": "code",
        "colab": {}
      },
      "source": [
        "def plotImages(images_arr):\n",
        "    fig, axes = plt.subplots(1, 5, figsize=(20,20))\n",
        "    axes = axes.flatten()\n",
        "    for img, ax in zip( images_arr, axes):\n",
        "        ax.imshow(img)\n",
        "        ax.axis('off')\n",
        "    plt.tight_layout()\n",
        "    plt.show()"
      ],
      "execution_count": null,
      "outputs": []
    },
    {
      "cell_type": "code",
      "metadata": {
        "id": "Wff9aURg3srs",
        "colab_type": "code",
        "colab": {}
      },
      "source": [
        "plotImages(sample_training_images[:5])"
      ],
      "execution_count": null,
      "outputs": []
    },
    {
      "cell_type": "code",
      "metadata": {
        "id": "Jj9qdE980bFx",
        "colab_type": "code",
        "colab": {}
      },
      "source": [
        "base_model = tf.keras.applications.InceptionV3(input_shape=(128,128,3),\n",
        "                                               include_top=False,\n",
        "                                               weights='imagenet')"
      ],
      "execution_count": null,
      "outputs": []
    },
    {
      "cell_type": "code",
      "metadata": {
        "id": "kIMapQvgcs4s",
        "colab_type": "code",
        "colab": {}
      },
      "source": [
        "feature_batch = base_model(sample_training_images)\n",
        "print(sample_training_images.shape)\n",
        "global_average_layer = tf.keras.layers.GlobalAveragePooling2D()\n",
        "feature_batch_average = global_average_layer(feature_batch)\n",
        "print(feature_batch_average.shape)"
      ],
      "execution_count": null,
      "outputs": []
    },
    {
      "cell_type": "code",
      "metadata": {
        "id": "L0yYSYdW13hB",
        "colab_type": "code",
        "colab": {}
      },
      "source": [
        ""
      ],
      "execution_count": null,
      "outputs": []
    },
    {
      "cell_type": "code",
      "metadata": {
        "id": "BWyGqEkNXonD",
        "colab_type": "code",
        "colab": {}
      },
      "source": [
        "m = tf.keras.Sequential([\n",
        "  base_model,\n",
        "  tf.keras.layers.GlobalAveragePooling2D(),\n",
        "  tf.keras.layers.Dense(42,activation='softmax')\n",
        "])"
      ],
      "execution_count": null,
      "outputs": []
    },
    {
      "cell_type": "code",
      "metadata": {
        "id": "7_o8Ck1aqS6H",
        "colab_type": "code",
        "colab": {}
      },
      "source": [
        "base_model.trainable = True\n"
      ],
      "execution_count": null,
      "outputs": []
    },
    {
      "cell_type": "code",
      "metadata": {
        "id": "lq41SNJQqTrG",
        "colab_type": "code",
        "colab": {}
      },
      "source": [
        "print(\"Number of layers in the base model: \", len(base_model.layers))\n",
        "fine_tune_at = 100\n",
        "\n",
        "for layer in base_model.layers[:fine_tune_at]:\n",
        "  layer.trainable =  False"
      ],
      "execution_count": null,
      "outputs": []
    },
    {
      "cell_type": "code",
      "metadata": {
        "id": "Mpz8lo4l01AD",
        "colab_type": "code",
        "colab": {}
      },
      "source": [
        "m.summary()"
      ],
      "execution_count": null,
      "outputs": []
    },
    {
      "cell_type": "code",
      "metadata": {
        "id": "QwEMZ23s5JQd",
        "colab_type": "code",
        "colab": {}
      },
      "source": [
        "m.compile(loss='categorical_crossentropy',\n",
        "              optimizer=tf.keras.optimizers.Adam(learning_rate=0.0001),\n",
        "              metrics=['accuracy'])"
      ],
      "execution_count": null,
      "outputs": []
    },
    {
      "cell_type": "code",
      "metadata": {
        "id": "3PgXpxDRiyi1",
        "colab_type": "code",
        "colab": {}
      },
      "source": [
        "def decay(epoch):\n",
        "  if epoch < 3:\n",
        "    return 1e-3\n",
        "  elif epoch >= 3 and epoch < 7:\n",
        "    return 1e-4\n",
        "  else:\n",
        "    return 1e-5\n",
        "class PrintLR(tf.keras.callbacks.Callback):\n",
        "  def on_epoch_end(self, epoch, logs=None):\n",
        "    print('\\nLearning rate for epoch {} is {}'.format(epoch + 1,\n",
        "                                                      m.optimizer.lr.numpy()))\n",
        "callbacks = [\n",
        "    tf.keras.callbacks.ModelCheckpoint(filepath='/content/drive/My Drive/ckpt/',\n",
        "                                       save_weights_only=True),\n",
        "    tf.keras.callbacks.LearningRateScheduler(decay),\n",
        "    PrintLR()\n",
        "]"
      ],
      "execution_count": null,
      "outputs": []
    },
    {
      "cell_type": "code",
      "metadata": {
        "id": "W4T5f3iU08oh",
        "colab_type": "code",
        "colab": {}
      },
      "source": [
        "history=m.fit(train_generator,\n",
        "              steps_per_epoch=10,\n",
        "              epochs=100,\n",
        "              validation_data=valid_generator,\n",
        "              #callbacks=[callbacks]\n",
        "              )\n",
        "m.save('my_model.h5')"
      ],
      "execution_count": null,
      "outputs": []
    },
    {
      "cell_type": "code",
      "metadata": {
        "id": "KgJ6EI-hM3lz",
        "colab_type": "code",
        "colab": {}
      },
      "source": [
        "acc = history.history['accuracy']\n",
        "val_acc = history.history['val_accuracy']\n",
        "\n",
        "loss=history.history['loss']\n",
        "val_loss=history.history['val_loss']\n",
        "\n",
        "epochs_range = range(epochs)\n",
        "\n",
        "plt.figure(figsize=(8, 8))\n",
        "plt.subplot(1, 2, 1)\n",
        "plt.plot(epochs_range, acc, label='Training Accuracy')\n",
        "plt.plot(epochs_range, val_acc, label='Validation Accuracy')\n",
        "plt.legend(loc='lower right')\n",
        "plt.title('Training and Validation Accuracy')\n",
        "\n",
        "plt.subplot(1, 2, 2)\n",
        "plt.plot(epochs_range, loss, label='Training Loss')\n",
        "plt.plot(epochs_range, val_loss, label='Validation Loss')\n",
        "plt.legend(loc='upper right')\n",
        "plt.title('Training and Validation Loss')\n",
        "plt.show()"
      ],
      "execution_count": null,
      "outputs": []
    },
    {
      "cell_type": "code",
      "metadata": {
        "id": "euNzYxpwOiMu",
        "colab_type": "code",
        "colab": {}
      },
      "source": [
        "model=tf.keras.models.load_model('/content/drive/My Drive/my_model.h5')"
      ],
      "execution_count": null,
      "outputs": []
    },
    {
      "cell_type": "code",
      "metadata": {
        "id": "8L4StuIV6K7o",
        "colab_type": "code",
        "colab": {}
      },
      "source": [
        "pred=model.predict_generator(test_generator)"
      ],
      "execution_count": null,
      "outputs": []
    },
    {
      "cell_type": "code",
      "metadata": {
        "id": "Ru4jHHSLiIXW",
        "colab_type": "code",
        "colab": {}
      },
      "source": [
        "pred"
      ],
      "execution_count": null,
      "outputs": []
    },
    {
      "cell_type": "code",
      "metadata": {
        "id": "DvW62KtLjP7z",
        "colab_type": "code",
        "colab": {}
      },
      "source": [
        "predicted_class_indices = np.argmax(pred, axis=1)"
      ],
      "execution_count": null,
      "outputs": []
    },
    {
      "cell_type": "code",
      "metadata": {
        "id": "6tpe2nPwjQNo",
        "colab_type": "code",
        "colab": {}
      },
      "source": [
        "labels = (train_generator.class_indices)\n",
        "label = dict((v,k) for k,v in labels.items())"
      ],
      "execution_count": null,
      "outputs": []
    },
    {
      "cell_type": "code",
      "metadata": {
        "id": "zC02TIQojVdg",
        "colab_type": "code",
        "colab": {}
      },
      "source": [
        "predictions = [label[i] for i in predicted_class_indices]"
      ],
      "execution_count": null,
      "outputs": []
    },
    {
      "cell_type": "code",
      "metadata": {
        "id": "zV5qr3ulUXyu",
        "colab_type": "code",
        "colab": {}
      },
      "source": [
        "predictions"
      ],
      "execution_count": null,
      "outputs": []
    },
    {
      "cell_type": "code",
      "metadata": {
        "id": "uC_fhV8RjZXZ",
        "colab_type": "code",
        "colab": {}
      },
      "source": [
        "dict_new_output={}\n",
        "filenames = test_generator.filenames\n",
        "for idx in range(len(filenames )):\n",
        "    print('predict  ' + predictions[idx])\n",
        "    if '(' not in filenames[idx][5:] :\n",
        "      dict_new_output.update({filenames[idx][5:]:predictions[idx]})\n",
        "      print('title    %s' % filenames[idx][5:])\n",
        "    print('')"
      ],
      "execution_count": null,
      "outputs": []
    },
    {
      "cell_type": "code",
      "metadata": {
        "id": "ToFWHavl1oVz",
        "colab_type": "code",
        "colab": {}
      },
      "source": [
        "dict_new_output['fe19ad2018c43627eaeda2f82c1abbf2.jpg']"
      ],
      "execution_count": null,
      "outputs": []
    },
    {
      "cell_type": "code",
      "metadata": {
        "id": "g3FMfOMpl6sH",
        "colab_type": "code",
        "colab": {}
      },
      "source": [
        "test_csv=pd.read_csv('/content/drive/My Drive/shopee-product-detection-dataset/test.csv')"
      ],
      "execution_count": null,
      "outputs": []
    },
    {
      "cell_type": "code",
      "metadata": {
        "id": "X_K9rJl61vaH",
        "colab_type": "code",
        "colab": {}
      },
      "source": [
        "test_csv.head()"
      ],
      "execution_count": null,
      "outputs": []
    },
    {
      "cell_type": "code",
      "metadata": {
        "id": "R3a09_eY1SdN",
        "colab_type": "code",
        "colab": {}
      },
      "source": [
        "for i in range(len(test_csv['filename'])):\n",
        "  test_csv['category'][i]=dict_new_output[test_csv['filename'][i]]\n",
        "test_csv['category'] = test_csv.category.apply(lambda c: str(c).zfill(2))"
      ],
      "execution_count": null,
      "outputs": []
    },
    {
      "cell_type": "code",
      "metadata": {
        "id": "O_6a1K6T2PrY",
        "colab_type": "code",
        "colab": {}
      },
      "source": [
        "test_csv.head()"
      ],
      "execution_count": null,
      "outputs": []
    },
    {
      "cell_type": "code",
      "metadata": {
        "id": "Zbwc_1an2WdW",
        "colab_type": "code",
        "colab": {}
      },
      "source": [
        "test_csv.to_csv('submission.csv',index=False)"
      ],
      "execution_count": null,
      "outputs": []
    },
    {
      "cell_type": "code",
      "metadata": {
        "id": "-is4GQkD20Zv",
        "colab_type": "code",
        "colab": {}
      },
      "source": [
        ""
      ],
      "execution_count": null,
      "outputs": []
    }
  ]
}